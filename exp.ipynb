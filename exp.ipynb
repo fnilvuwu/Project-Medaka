{
 "cells": [
  {
   "cell_type": "code",
   "execution_count": 2,
   "metadata": {},
   "outputs": [],
   "source": [
    "from ultralytics import YOLO"
   ]
  },
  {
   "cell_type": "code",
   "execution_count": 3,
   "metadata": {},
   "outputs": [],
   "source": [
    "model = YOLO('yolov8_best_fish_detector.pt')"
   ]
  },
  {
   "cell_type": "code",
   "execution_count": 47,
   "metadata": {},
   "outputs": [
    {
     "name": "stdout",
     "output_type": "stream",
     "text": [
      "\n",
      "0: 384x640 1 O.javanicus, 153.7ms\n",
      "Speed: 0.0ms preprocess, 153.7ms inference, 0.0ms postprocess per image at shape (1, 3, 384, 640)\n"
     ]
    }
   ],
   "source": [
    "from ultralytics import YOLO\n",
    "import numpy\n",
    "\n",
    "model = YOLO('yolov8_best_fish_detector.pt')\n",
    "results = model([\"javanicus2.jpg\"], iou=0.5)  \n",
    "\n",
    "# Process results list\n",
    "for result in results:\n",
    "    boxes = result.boxes  # Boxes object for bounding box outputs\n",
    "    masks = result.masks  # Masks object for segmentation masks outputs\n",
    "    keypoints = result.keypoints  # Keypoints object for pose outputs\n",
    "    probs = result.probs  # Probs object for classification outputs\n",
    "    obb = result.obb  # Oriented boxes object for OBB outputs\n",
    "    result.show()  # display to screen\n",
    "    result.save(filename=\"result.jpg\")  # save to disk"
   ]
  },
  {
   "cell_type": "code",
   "execution_count": 48,
   "metadata": {},
   "outputs": [
    {
     "name": "stdout",
     "output_type": "stream",
     "text": [
      "\n",
      "0: 448x640 1 O.celebensis, 179.9ms\n",
      "Speed: 20.4ms preprocess, 179.9ms inference, 0.0ms postprocess per image at shape (1, 3, 448, 640)\n"
     ]
    }
   ],
   "source": [
    "from ultralytics import YOLO\n",
    "import numpy\n",
    "\n",
    "model = YOLO('yolov8_best_fish_detector.pt')\n",
    "results = model([\"celebensis2.jpg\"], iou=0.5)  \n",
    "\n",
    "# Process results list\n",
    "for result in results:\n",
    "    boxes = result.boxes  # Boxes object for bounding box outputs\n",
    "    masks = result.masks  # Masks object for segmentation masks outputs\n",
    "    keypoints = result.keypoints  # Keypoints object for pose outputs\n",
    "    probs = result.probs  # Probs object for classification outputs\n",
    "    obb = result.obb  # Oriented boxes object for OBB outputs\n",
    "    result.show()  # display to screen\n",
    "    result.save(filename=\"result.jpg\")  # save to disk"
   ]
  },
  {
   "cell_type": "code",
   "execution_count": 56,
   "metadata": {},
   "outputs": [
    {
     "name": "stdout",
     "output_type": "stream",
     "text": [
      "\n",
      "0: 480x640 (no detections), 199.4ms\n",
      "Speed: 0.0ms preprocess, 199.4ms inference, 0.0ms postprocess per image at shape (1, 3, 480, 640)\n"
     ]
    }
   ],
   "source": [
    "from ultralytics import YOLO\n",
    "\n",
    "model = YOLO('yolov8_best_fish_detector.pt')\n",
    "results = model([\"lain2.jpg\"], iou=0.5, conf=0.7)  \n",
    "\n",
    "# Process results list\n",
    "for result in results:\n",
    "    boxes = result.boxes  # Boxes object for bounding box outputs\n",
    "    masks = result.masks  # Masks object for segmentation masks outputs\n",
    "    keypoints = result.keypoints  # Keypoints object for pose outputs\n",
    "    probs = result.probs  # Probs object for classification outputs\n",
    "    obb = result.obb  # Oriented boxes object for OBB outputs\n",
    "    result.show()  # display to screen\n",
    "    result.save(filename=\"result.jpg\")  # save to disk"
   ]
  },
  {
   "cell_type": "code",
   "execution_count": 4,
   "metadata": {},
   "outputs": [
    {
     "name": "stdout",
     "output_type": "stream",
     "text": [
      "\n",
      "0: 384x640 1 O.javanicus, 150.7ms\n",
      "Speed: 0.0ms preprocess, 150.7ms inference, 0.0ms postprocess per image at shape (1, 3, 384, 640)\n"
     ]
    }
   ],
   "source": [
    "from ultralytics import YOLO\n",
    "import numpy as np\n",
    "import cv2\n",
    "import os\n",
    "\n",
    "class FishMedakaAI:\n",
    "    def __init__(self):\n",
    "        self.detector_model_path = 'yolov8_best_medaka_detector.pt'\n",
    "        self.classifier_model_path = 'yolov8_best_medaka_classifier.pt'\n",
    "\n",
    "    def detect_medaka(self, image_path):\n",
    "        detector_model = YOLO(self.detector_model_path)\n",
    "        iou_threshold = 0.5\n",
    "        \n",
    "        base_name = os.path.splitext(os.path.basename(image_path))[0]\n",
    "        save_filename = f\"{base_name}_detect_result.jpg\"\n",
    "\n",
    "        results = detector_model([image_path], iou=iou_threshold)\n",
    "        \n",
    "        detection_boxes = []\n",
    "        detection_masks = []\n",
    "        detection_keypoints = []\n",
    "        detection_probs = []\n",
    "        detection_obb = []\n",
    "        detection_images = []\n",
    "\n",
    "        for result in results:\n",
    "            detection_boxes.append(result.boxes)\n",
    "            detection_masks.append(result.masks)\n",
    "            detection_keypoints.append(result.keypoints)\n",
    "            detection_probs.append(result.probs)\n",
    "            detection_obb.append(result.obb)\n",
    "            \n",
    "            result.show()\n",
    "            result.save(filename=save_filename)\n",
    "            \n",
    "            processed_image = cv2.imread(save_filename)\n",
    "            detection_images.append(processed_image)\n",
    "\n",
    "        return {\n",
    "            'boxes': detection_boxes,\n",
    "            'masks': detection_masks,\n",
    "            'keypoints': detection_keypoints,\n",
    "            'probs': detection_probs,\n",
    "            'obb': detection_obb,\n",
    "            'images': detection_images\n",
    "        }\n",
    "\n",
    "    def classify_medaka(self, image_path):\n",
    "        classifier_model = YOLO(self.classifier_model_path)\n",
    "\n",
    "        base_name = os.path.splitext(os.path.basename(image_path))[0]\n",
    "        save_filename = f\"{base_name}_classify_result.jpg\"\n",
    "\n",
    "        pass"
   ]
  },
  {
   "cell_type": "code",
   "execution_count": null,
   "metadata": {},
   "outputs": [],
   "source": []
  }
 ],
 "metadata": {
  "kernelspec": {
   "display_name": "venv",
   "language": "python",
   "name": "python3"
  },
  "language_info": {
   "codemirror_mode": {
    "name": "ipython",
    "version": 3
   },
   "file_extension": ".py",
   "mimetype": "text/x-python",
   "name": "python",
   "nbconvert_exporter": "python",
   "pygments_lexer": "ipython3",
   "version": "3.10.10"
  }
 },
 "nbformat": 4,
 "nbformat_minor": 2
}
